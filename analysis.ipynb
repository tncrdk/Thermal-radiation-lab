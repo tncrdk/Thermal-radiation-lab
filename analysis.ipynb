{
 "cells": [
  {
   "cell_type": "code",
   "execution_count": 22,
   "metadata": {},
   "outputs": [],
   "source": [
    "import numpy as np\n",
    "import matplotlib.pyplot as plt\n",
    "import pandas as pd\n",
    "from scipy.stats import linregress\n",
    "from pathlib import Path\n",
    "import tomllib"
   ]
  },
  {
   "cell_type": "code",
   "execution_count": 29,
   "metadata": {},
   "outputs": [],
   "source": [
    "def get_resistance(voltage: np.ndarray, current: np.ndarray) -> np.ndarray:\n",
    "    return voltage / current"
   ]
  },
  {
   "cell_type": "markdown",
   "metadata": {},
   "source": [
    "## Boltzmann-data"
   ]
  },
  {
   "cell_type": "code",
   "execution_count": 16,
   "metadata": {},
   "outputs": [],
   "source": [
    "BOLTZMANN_DIR = Path(__name__).parent / \"Boltzmann\""
   ]
  },
  {
   "cell_type": "markdown",
   "metadata": {},
   "source": [
    "### $R_0$"
   ]
  },
  {
   "cell_type": "code",
   "execution_count": 24,
   "metadata": {},
   "outputs": [],
   "source": [
    "def get_wheatstone_resistance(R1: float, R2: float, R3: float) -> float:\n",
    "    return R3*R2/R1"
   ]
  },
  {
   "cell_type": "code",
   "execution_count": 27,
   "metadata": {},
   "outputs": [
    {
     "name": "stdout",
     "output_type": "stream",
     "text": [
      "0.309\n"
     ]
    }
   ],
   "source": [
    "with open(BOLTZMANN_DIR / \"wheatstone.toml\", \"rb\") as f:\n",
    "    wheatstone_data = tomllib.load(f)\n",
    "\n",
    "R0 = get_wheatstone_resistance(\n",
    "    wheatstone_data[\"R1\"],\n",
    "    wheatstone_data[\"R2\"] - wheatstone_data[\"Kabel\"],\n",
    "    wheatstone_data[\"R3\"],\n",
    ")"
   ]
  },
  {
   "cell_type": "markdown",
   "metadata": {},
   "source": [
    "### Motstand i pæren"
   ]
  },
  {
   "cell_type": "code",
   "execution_count": 30,
   "metadata": {},
   "outputs": [],
   "source": [
    "data_boltzmann = np.loadtxt(\n",
    "    BOLTZMANN_DIR / \"results.csv\", delimiter=\",\", skiprows=1, unpack=True\n",
    ")\n",
    "boltzmann_resistance = np.array(\n",
    "    [\n",
    "        get_resistance(data_boltzmann[0], data_boltzmann[2]),\n",
    "        get_resistance(data_boltzmann[1], data_boltzmann[3]),\n",
    "    ]\n",
    ")\n",
    "relative_resistance = boltzmann_resistance / R0\n",
    "np.savetxt(\n",
    "    BOLTZMANN_DIR / \"relative_resistance.csv\", relative_resistance, fmt=\"%.2f\", delimiter=\",\"\n",
    ")"
   ]
  },
  {
   "cell_type": "markdown",
   "metadata": {},
   "source": [
    "## Leslie-data"
   ]
  },
  {
   "cell_type": "code",
   "execution_count": 18,
   "metadata": {},
   "outputs": [],
   "source": [
    "LESLIE_DIR = Path(__name__).parent / \"Leslie\""
   ]
  },
  {
   "cell_type": "code",
   "execution_count": 4,
   "metadata": {},
   "outputs": [],
   "source": [
    "data_leslie = pd.read_csv(LESLIE_DIR / \"results.csv\")\n"
   ]
  }
 ],
 "metadata": {
  "kernelspec": {
   "display_name": "scientific-venv",
   "language": "python",
   "name": "python3"
  },
  "language_info": {
   "codemirror_mode": {
    "name": "ipython",
    "version": 3
   },
   "file_extension": ".py",
   "mimetype": "text/x-python",
   "name": "python",
   "nbconvert_exporter": "python",
   "pygments_lexer": "ipython3",
   "version": "3.11.5"
  },
  "orig_nbformat": 4
 },
 "nbformat": 4,
 "nbformat_minor": 2
}
