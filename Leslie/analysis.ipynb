{
 "cells": [
  {
   "cell_type": "code",
   "execution_count": 31,
   "metadata": {},
   "outputs": [],
   "source": [
    "import numpy as np\n",
    "import matplotlib.pyplot as plt\n"
   ]
  },
  {
   "cell_type": "code",
   "execution_count": 32,
   "metadata": {},
   "outputs": [],
   "source": [
    "def interpolate_temperature(\n",
    "    resistance: float,\n",
    "    resistance_interval: tuple[float, float],\n",
    "    temperature_interval: tuple[float, float],\n",
    ") -> float:\n",
    "    delta_R = resistance_interval[1] - resistance_interval[0]\n",
    "    delta_T = temperature_interval[1] - temperature_interval[0]\n",
    "    return temperature_interval[0] + delta_T / delta_R * (\n",
    "        resistance - resistance_interval[0]\n",
    "    )\n",
    "\n",
    "\n",
    "def get_resistance_interval(\n",
    "    resistance: float, resistance_array: np.ndarray\n",
    ") -> tuple[int, int]:\n",
    "    for index, i in enumerate(resistance_array):\n",
    "        if i >= resistance:\n",
    "            return index, index + 1\n",
    "    return 0, 1\n"
   ]
  },
  {
   "cell_type": "code",
   "execution_count": 33,
   "metadata": {},
   "outputs": [],
   "source": [
    "def get_temperature(\n",
    "    R: np.ndarray, reference_R: np.ndarray, reference_T: np.ndarray\n",
    ") -> np.ndarray:\n",
    "    temperature = np.zeros_like(R)\n",
    "    for index, resistance in enumerate(R):\n",
    "        lower, upper = get_resistance_interval(resistance, reference_R)\n",
    "        temperature[index] = interpolate_temperature(\n",
    "            resistance,\n",
    "            (reference_R[lower], reference_R[upper]),\n",
    "            (reference_T[lower], reference_T[upper]),\n",
    "        )\n",
    "    return temperature\n"
   ]
  },
  {
   "cell_type": "code",
   "execution_count": 34,
   "metadata": {},
   "outputs": [],
   "source": [
    "def calculate_constant(\n",
    "    sensor_voltage: np.ndarray, temperature: np.ndarray\n",
    ") -> np.ndarray:\n",
    "    return temperature**4 / sensor_voltage\n"
   ]
  },
  {
   "cell_type": "code",
   "execution_count": 35,
   "metadata": {},
   "outputs": [],
   "source": [
    "def get_epsilon(\n",
    "    a: np.ndarray, sensor_voltage: np.ndarray, temperature: np.ndarray\n",
    ") -> np.ndarray:\n",
    "    return a * sensor_voltage / temperature**4\n"
   ]
  },
  {
   "cell_type": "code",
   "execution_count": 36,
   "metadata": {},
   "outputs": [],
   "source": [
    "def get_results(a: np.ndarray, voltage: np.ndarray, temperature: np.ndarray) -> tuple[float, float]:\n",
    "    epsilon = get_epsilon(a, voltage, temperature)\n",
    "    epsilon_avg = np.average(epsilon)\n",
    "    epsilon_std = np.std(epsilon, ddof=1)\n",
    "    return float(epsilon_avg), float(epsilon_std)"
   ]
  },
  {
   "cell_type": "code",
   "execution_count": 37,
   "metadata": {},
   "outputs": [],
   "source": [
    "data = np.loadtxt(\"results.csv\", unpack=True, delimiter=\",\", skiprows=1)\n",
    "resistance = data[0] * 1000\n",
    "black_voltage, grey_voltage, mirror_voltage, white_voltage = data[1:] / 1000\n",
    "\n",
    "reference_R, reference_temp = np.loadtxt(\n",
    "    \"resistance_temperature_table.csv\", unpack=True, delimiter=\",\", skiprows=1\n",
    ")"
   ]
  },
  {
   "cell_type": "code",
   "execution_count": 38,
   "metadata": {},
   "outputs": [],
   "source": [
    "temperature = get_temperature(resistance, reference_R, reference_temp)\n",
    "A = calculate_constant(black_voltage, temperature)\n"
   ]
  },
  {
   "cell_type": "markdown",
   "metadata": {},
   "source": [
    "### Grey"
   ]
  },
  {
   "cell_type": "code",
   "execution_count": 39,
   "metadata": {},
   "outputs": [
    {
     "name": "stdout",
     "output_type": "stream",
     "text": [
      "(0.3570214635578706, 0.004509384063104793)\n"
     ]
    }
   ],
   "source": [
    "grey_epsilon = get_results(A, grey_voltage, temperature)\n",
    "print(grey_epsilon)\n"
   ]
  },
  {
   "cell_type": "markdown",
   "metadata": {},
   "source": [
    "### Mirror"
   ]
  },
  {
   "cell_type": "code",
   "execution_count": 40,
   "metadata": {},
   "outputs": [
    {
     "name": "stdout",
     "output_type": "stream",
     "text": [
      "(0.05719267597982905, 0.009300257242144389)\n"
     ]
    }
   ],
   "source": [
    "mirror_epsilon = get_results(A, mirror_voltage, temperature)\n",
    "print(mirror_epsilon)\n"
   ]
  },
  {
   "cell_type": "markdown",
   "metadata": {},
   "source": [
    "### White"
   ]
  },
  {
   "cell_type": "code",
   "execution_count": 41,
   "metadata": {},
   "outputs": [
    {
     "name": "stdout",
     "output_type": "stream",
     "text": [
      "(0.9604884445339257, 0.0059874761207086)\n"
     ]
    }
   ],
   "source": [
    "white_epsilon = get_results(A, white_voltage, temperature)\n",
    "print(white_epsilon)\n"
   ]
  }
 ],
 "metadata": {
  "kernelspec": {
   "display_name": "scientific-venv",
   "language": "python",
   "name": "python3"
  },
  "language_info": {
   "codemirror_mode": {
    "name": "ipython",
    "version": 3
   },
   "file_extension": ".py",
   "mimetype": "text/x-python",
   "name": "python",
   "nbconvert_exporter": "python",
   "pygments_lexer": "ipython3",
   "version": "3.11.6"
  }
 },
 "nbformat": 4,
 "nbformat_minor": 2
}
