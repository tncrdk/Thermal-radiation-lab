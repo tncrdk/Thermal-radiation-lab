{
 "cells": [
  {
   "cell_type": "code",
   "execution_count": 7,
   "metadata": {},
   "outputs": [],
   "source": [
    "import numpy as np\n",
    "import matplotlib.pyplot as plt\n",
    "import pandas as pd\n",
    "from scipy.stats import linregress\n",
    "from pathlib import Path\n",
    "import tomllib"
   ]
  },
  {
   "cell_type": "code",
   "execution_count": 8,
   "metadata": {},
   "outputs": [],
   "source": [
    "def get_resistance(voltage: np.ndarray, current: np.ndarray) -> np.ndarray:\n",
    "    return voltage / current"
   ]
  },
  {
   "cell_type": "markdown",
   "metadata": {},
   "source": [
    "## Boltzmann-data"
   ]
  },
  {
   "cell_type": "code",
   "execution_count": 9,
   "metadata": {},
   "outputs": [],
   "source": [
    "BOLTZMANN_DIR = Path(__name__).parent"
   ]
  },
  {
   "cell_type": "markdown",
   "metadata": {},
   "source": [
    "### $R_0$"
   ]
  },
  {
   "cell_type": "code",
   "execution_count": 10,
   "metadata": {},
   "outputs": [],
   "source": [
    "def get_wheatstone_resistance(R1: float, R2: float, R3: float) -> float:\n",
    "    return R3*R2/R1"
   ]
  },
  {
   "cell_type": "code",
   "execution_count": 11,
   "metadata": {},
   "outputs": [],
   "source": [
    "with open(BOLTZMANN_DIR / \"wheatstone.toml\", \"rb\") as f:\n",
    "    wheatstone_data = tomllib.load(f)\n",
    "\n",
    "R0 = get_wheatstone_resistance(\n",
    "    wheatstone_data[\"R1\"],\n",
    "    wheatstone_data[\"R2\"] - wheatstone_data[\"Kabel\"],\n",
    "    wheatstone_data[\"R3\"],\n",
    ")"
   ]
  },
  {
   "cell_type": "markdown",
   "metadata": {},
   "source": [
    "### Motstand i pæren"
   ]
  },
  {
   "cell_type": "code",
   "execution_count": 12,
   "metadata": {},
   "outputs": [],
   "source": [
    "data_boltzmann = np.loadtxt(\n",
    "    BOLTZMANN_DIR / \"results.csv\", delimiter=\",\", skiprows=1, unpack=True\n",
    ")\n",
    "boltzmann_resistance = np.array(\n",
    "    [\n",
    "        get_resistance(data_boltzmann[0], data_boltzmann[2]),  # Multimeter\n",
    "        get_resistance(data_boltzmann[1], data_boltzmann[3]),  # Strømforsyning\n",
    "    ]\n",
    ")\n",
    "relative_resistance = boltzmann_resistance / R0\n",
    "np.savetxt(\n",
    "    BOLTZMANN_DIR / \"relative_resistance.csv\",\n",
    "    relative_resistance,\n",
    "    fmt=\"%.2f\",\n",
    "    delimiter=\",\",\n",
    ")"
   ]
  },
  {
   "cell_type": "markdown",
   "metadata": {},
   "source": [
    "### Temperatur"
   ]
  },
  {
   "cell_type": "code",
   "execution_count": 13,
   "metadata": {},
   "outputs": [],
   "source": [
    "def interpolate_temperature(\n",
    "    resistance: float,\n",
    "    resistance_interval: tuple[float, float],\n",
    "    temperature_interval: tuple[float, float],\n",
    ") -> float:\n",
    "    delta_R = resistance_interval[1] - resistance_interval[0]\n",
    "    delta_T = temperature_interval[1] - temperature_interval[0]\n",
    "    return resistance_interval[0] + delta_T / delta_R * (\n",
    "        resistance - resistance_interval[0]\n",
    "    )\n",
    "\n",
    "\n",
    "def get_resistance_interval(\n",
    "    resistance: float, resistance_array: np.ndarray\n",
    ") -> tuple[int, int]:\n",
    "    for i in resistance_array:\n",
    "        if i <= resistance:\n",
    "            return i, i + 1\n",
    "    return 0, 1"
   ]
  },
  {
   "cell_type": "markdown",
   "metadata": {},
   "source": [
    "### Multimeter"
   ]
  },
  {
   "cell_type": "code",
   "execution_count": 14,
   "metadata": {},
   "outputs": [
    {
     "name": "stdout",
     "output_type": "stream",
     "text": [
      "1.0 2.0\n"
     ]
    },
    {
     "ename": "IndexError",
     "evalue": "only integers, slices (`:`), ellipsis (`...`), numpy.newaxis (`None`) and integer or boolean arrays are valid indices",
     "output_type": "error",
     "traceback": [
      "\u001b[0;31m---------------------------------------------------------------------------\u001b[0m",
      "\u001b[0;31mIndexError\u001b[0m                                Traceback (most recent call last)",
      "\u001b[1;32m/home/thorb/OneDrive/NTNU-OneDrive/Termisk-Fysikk/Lab/Termisk-stråling/Boltzmann/analysis.ipynb Cell 13\u001b[0m line \u001b[0;36m1\n\u001b[1;32m      <a href='vscode-notebook-cell:/home/thorb/OneDrive/NTNU-OneDrive/Termisk-Fysikk/Lab/Termisk-str%C3%A5ling/Boltzmann/analysis.ipynb#X15sZmlsZQ%3D%3D?line=6'>7</a>\u001b[0m     lower, upper \u001b[39m=\u001b[39m get_resistance_interval(resistance, reference_resistance)\n\u001b[1;32m      <a href='vscode-notebook-cell:/home/thorb/OneDrive/NTNU-OneDrive/Termisk-Fysikk/Lab/Termisk-str%C3%A5ling/Boltzmann/analysis.ipynb#X15sZmlsZQ%3D%3D?line=7'>8</a>\u001b[0m     \u001b[39mprint\u001b[39m(lower, upper)\n\u001b[1;32m      <a href='vscode-notebook-cell:/home/thorb/OneDrive/NTNU-OneDrive/Termisk-Fysikk/Lab/Termisk-str%C3%A5ling/Boltzmann/analysis.ipynb#X15sZmlsZQ%3D%3D?line=8'>9</a>\u001b[0m     temperature_results[index] \u001b[39m=\u001b[39m interpolate_temperature(\n\u001b[1;32m     <a href='vscode-notebook-cell:/home/thorb/OneDrive/NTNU-OneDrive/Termisk-Fysikk/Lab/Termisk-str%C3%A5ling/Boltzmann/analysis.ipynb#X15sZmlsZQ%3D%3D?line=9'>10</a>\u001b[0m         resistance,\n\u001b[0;32m---> <a href='vscode-notebook-cell:/home/thorb/OneDrive/NTNU-OneDrive/Termisk-Fysikk/Lab/Termisk-str%C3%A5ling/Boltzmann/analysis.ipynb#X15sZmlsZQ%3D%3D?line=10'>11</a>\u001b[0m         (reference_resistance[lower], reference_resistance[upper]),\n\u001b[1;32m     <a href='vscode-notebook-cell:/home/thorb/OneDrive/NTNU-OneDrive/Termisk-Fysikk/Lab/Termisk-str%C3%A5ling/Boltzmann/analysis.ipynb#X15sZmlsZQ%3D%3D?line=11'>12</a>\u001b[0m         (temperature[lower], temperature[upper]),\n\u001b[1;32m     <a href='vscode-notebook-cell:/home/thorb/OneDrive/NTNU-OneDrive/Termisk-Fysikk/Lab/Termisk-str%C3%A5ling/Boltzmann/analysis.ipynb#X15sZmlsZQ%3D%3D?line=12'>13</a>\u001b[0m     )\n\u001b[1;32m     <a href='vscode-notebook-cell:/home/thorb/OneDrive/NTNU-OneDrive/Termisk-Fysikk/Lab/Termisk-str%C3%A5ling/Boltzmann/analysis.ipynb#X15sZmlsZQ%3D%3D?line=13'>14</a>\u001b[0m \u001b[39mprint\u001b[39m(temperature)\n",
      "\u001b[0;31mIndexError\u001b[0m: only integers, slices (`:`), ellipsis (`...`), numpy.newaxis (`None`) and integer or boolean arrays are valid indices"
     ]
    }
   ],
   "source": [
    "reference_resistance, temperature, _ = np.loadtxt(\n",
    "    BOLTZMANN_DIR / \"resistance_temperature_table.csv\", delimiter=\",\", skiprows=1, unpack=True\n",
    ")\n",
    "\n",
    "temperature_results = np.zeros_like(relative_resistance[0])\n",
    "for index, resistance in enumerate(relative_resistance[0]):\n",
    "    lower, upper = get_resistance_interval(resistance, reference_resistance)\n",
    "    print(lower, upper)\n",
    "    temperature_results[index] = interpolate_temperature(\n",
    "        resistance,\n",
    "        (reference_resistance[lower], reference_resistance[upper]),\n",
    "        (temperature[lower], temperature[upper]),\n",
    "    )\n",
    "print(temperature)"
   ]
  },
  {
   "cell_type": "markdown",
   "metadata": {},
   "source": [
    "## Leslie-data"
   ]
  },
  {
   "cell_type": "code",
   "execution_count": null,
   "metadata": {},
   "outputs": [],
   "source": [
    "LESLIE_DIR = Path(__name__).parent / \"Leslie\""
   ]
  },
  {
   "cell_type": "code",
   "execution_count": null,
   "metadata": {},
   "outputs": [],
   "source": [
    "data_leslie = pd.read_csv(LESLIE_DIR / \"results.csv\")\n"
   ]
  }
 ],
 "metadata": {
  "kernelspec": {
   "display_name": "scientific-venv",
   "language": "python",
   "name": "python3"
  },
  "language_info": {
   "codemirror_mode": {
    "name": "ipython",
    "version": 3
   },
   "file_extension": ".py",
   "mimetype": "text/x-python",
   "name": "python",
   "nbconvert_exporter": "python",
   "pygments_lexer": "ipython3",
   "version": "3.11.6"
  },
  "orig_nbformat": 4
 },
 "nbformat": 4,
 "nbformat_minor": 2
}
