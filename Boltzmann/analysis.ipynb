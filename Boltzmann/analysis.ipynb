{
 "cells": [
  {
   "cell_type": "code",
   "execution_count": 33,
   "metadata": {},
   "outputs": [],
   "source": [
    "import numpy as np\n",
    "import matplotlib.pyplot as plt\n",
    "import pandas as pd\n",
    "from scipy.stats import linregress\n",
    "from pathlib import Path\n",
    "import tomllib"
   ]
  },
  {
   "cell_type": "code",
   "execution_count": 34,
   "metadata": {},
   "outputs": [],
   "source": [
    "def get_resistance(voltage: np.ndarray, current: np.ndarray) -> np.ndarray:\n",
    "    return voltage / current"
   ]
  },
  {
   "cell_type": "markdown",
   "metadata": {},
   "source": [
    "## Boltzmann-data"
   ]
  },
  {
   "cell_type": "code",
   "execution_count": 35,
   "metadata": {},
   "outputs": [],
   "source": [
    "BOLTZMANN_DIR = Path(__name__).parent"
   ]
  },
  {
   "cell_type": "code",
   "execution_count": 36,
   "metadata": {},
   "outputs": [],
   "source": [
    "data_boltzmann = np.loadtxt(\n",
    "    BOLTZMANN_DIR / \"results.csv\", delimiter=\",\", skiprows=1, unpack=True\n",
    ")\n",
    "voltage_data = data_boltzmann[4] / 1000"
   ]
  },
  {
   "cell_type": "markdown",
   "metadata": {},
   "source": [
    "### $R_0$"
   ]
  },
  {
   "cell_type": "code",
   "execution_count": 37,
   "metadata": {},
   "outputs": [],
   "source": [
    "def get_wheatstone_resistance(R1: float, R2: float, R3: float) -> float:\n",
    "    return R3*R2/R1"
   ]
  },
  {
   "cell_type": "code",
   "execution_count": 38,
   "metadata": {},
   "outputs": [],
   "source": [
    "with open(BOLTZMANN_DIR / \"wheatstone.toml\", \"rb\") as f:\n",
    "    wheatstone_data = tomllib.load(f)\n",
    "\n",
    "R0 = get_wheatstone_resistance(\n",
    "    wheatstone_data[\"R1\"],\n",
    "    wheatstone_data[\"R2\"] - wheatstone_data[\"Kabel\"],\n",
    "    wheatstone_data[\"R3\"],\n",
    ")"
   ]
  },
  {
   "cell_type": "markdown",
   "metadata": {},
   "source": [
    "### Motstand i pæren"
   ]
  },
  {
   "cell_type": "code",
   "execution_count": 39,
   "metadata": {},
   "outputs": [],
   "source": [
    "boltzmann_resistance = np.array(\n",
    "    [\n",
    "        get_resistance(data_boltzmann[0], data_boltzmann[2]),  # Multimeter\n",
    "        get_resistance(data_boltzmann[1], data_boltzmann[3]),  # Strømforsyning\n",
    "    ]\n",
    ")\n",
    "relative_resistance = boltzmann_resistance / R0\n",
    "np.savetxt(\n",
    "    BOLTZMANN_DIR / \"relative_resistance.csv\",\n",
    "    relative_resistance,\n",
    "    fmt=\"%.2f\",\n",
    "    delimiter=\",\",\n",
    ")"
   ]
  },
  {
   "cell_type": "markdown",
   "metadata": {},
   "source": [
    "### Temperatur"
   ]
  },
  {
   "cell_type": "code",
   "execution_count": 40,
   "metadata": {},
   "outputs": [],
   "source": [
    "def interpolate_temperature(\n",
    "    resistance: float,\n",
    "    resistance_interval: tuple[float, float],\n",
    "    temperature_interval: tuple[float, float],\n",
    ") -> float:\n",
    "    delta_R = resistance_interval[1] - resistance_interval[0]\n",
    "    delta_T = temperature_interval[1] - temperature_interval[0]\n",
    "    return temperature_interval[0] + delta_T / delta_R * (\n",
    "        resistance - resistance_interval[0]\n",
    "    )\n",
    "\n",
    "\n",
    "def get_resistance_interval(\n",
    "    resistance: float, resistance_array: np.ndarray\n",
    ") -> tuple[int, int]:\n",
    "    for index, i in enumerate(resistance_array):\n",
    "        if i >= resistance:\n",
    "            return index, index + 1\n",
    "    return 0, 1"
   ]
  },
  {
   "cell_type": "code",
   "execution_count": 41,
   "metadata": {},
   "outputs": [],
   "source": [
    "def get_temperature(\n",
    "    R_rel: np.ndarray, reference_R: np.ndarray, reference_T: np.ndarray\n",
    ") -> np.ndarray:\n",
    "    temp_results = np.zeros_like(R_rel)\n",
    "    for index, resistance in enumerate(R_rel):\n",
    "        lower, upper = get_resistance_interval(resistance, reference_R)\n",
    "        temp_results[index] = interpolate_temperature(\n",
    "            resistance,\n",
    "            (reference_R[lower], reference_R[upper]),\n",
    "            (reference_T[lower], reference_T[upper]),\n",
    "        )\n",
    "    return temp_results"
   ]
  },
  {
   "cell_type": "code",
   "execution_count": 42,
   "metadata": {},
   "outputs": [],
   "source": [
    "reference_resistance, reference_temperature, _ = np.loadtxt(\n",
    "    BOLTZMANN_DIR / \"resistance_temperature_table.csv\", delimiter=\",\", skiprows=1, unpack=True\n",
    ")"
   ]
  },
  {
   "cell_type": "markdown",
   "metadata": {},
   "source": [
    "### Multimeter"
   ]
  },
  {
   "cell_type": "code",
   "execution_count": 49,
   "metadata": {},
   "outputs": [
    {
     "name": "stdout",
     "output_type": "stream",
     "text": [
      "4.404359187621584\n",
      "0.029356787478218252\n"
     ]
    }
   ],
   "source": [
    "temperature_results = get_temperature(relative_resistance[0], reference_resistance, reference_temperature)\n",
    "\n",
    "res = linregress(np.log(temperature_results), np.log(voltage_data))\n",
    "print(res.slope)\n",
    "print(res.stderr)"
   ]
  },
  {
   "cell_type": "markdown",
   "metadata": {},
   "source": [
    "### Strømforsyning"
   ]
  },
  {
   "cell_type": "code",
   "execution_count": 48,
   "metadata": {},
   "outputs": [
    {
     "name": "stdout",
     "output_type": "stream",
     "text": [
      "4.6289023383188335\n",
      "0.03237785979632769\n"
     ]
    }
   ],
   "source": [
    "temperature_results = get_temperature(relative_resistance[1], reference_resistance, reference_temperature)\n",
    "\n",
    "res = linregress(np.log(temperature_results), np.log(voltage_data))\n",
    "print(res.slope)\n",
    "print(res.stderr)"
   ]
  }
 ],
 "metadata": {
  "kernelspec": {
   "display_name": "scientific-venv",
   "language": "python",
   "name": "python3"
  },
  "language_info": {
   "codemirror_mode": {
    "name": "ipython",
    "version": 3
   },
   "file_extension": ".py",
   "mimetype": "text/x-python",
   "name": "python",
   "nbconvert_exporter": "python",
   "pygments_lexer": "ipython3",
   "version": "3.11.6"
  },
  "orig_nbformat": 4
 },
 "nbformat": 4,
 "nbformat_minor": 2
}
